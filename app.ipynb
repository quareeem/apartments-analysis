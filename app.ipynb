{
 "cells": [
  {
   "cell_type": "code",
   "execution_count": 1,
   "metadata": {},
   "outputs": [
    {
     "name": "stdout",
     "output_type": "stream",
     "text": [
      " - - Accuracy - - \n",
      "Accuracy of corner prediction: 100.00%\n",
      "\n",
      " - - Deviation values analysis - - \n",
      "              mean          max          min   floor_mean    floor_max  \\\n",
      "count  1347.000000  1347.000000  1347.000000  1347.000000  1347.000000   \n",
      "mean     12.895320    25.448011     2.920388    11.022443    20.405499   \n",
      "std      21.839948    42.758159     9.258972    19.136320    33.189081   \n",
      "min       0.192973     0.323886     0.007456     0.134686     0.178059   \n",
      "25%       0.658488     1.243804     0.147432     0.514150     0.888043   \n",
      "50%       2.123456     4.703514     0.279876     1.932503     4.008014   \n",
      "75%      14.810982    28.312051     0.674444    13.430288    24.986504   \n",
      "max     121.301055   179.165483    81.764483   121.244083   177.961811   \n",
      "\n",
      "         floor_min  ceiling_mean  ceiling_max  ceiling_min  \n",
      "count  1347.000000   1347.000000  1347.000000  1347.000000  \n",
      "mean      3.146246     14.768198    24.848020     5.521437  \n",
      "std       9.559611     26.047057    42.345579    14.460565  \n",
      "min       0.007456      0.123169     0.220846     0.009268  \n",
      "25%       0.164668      0.742915     1.180960     0.306071  \n",
      "50%       0.304374      2.159995     3.777277     0.600597  \n",
      "75%       0.801416     15.150233    27.551533     1.840563  \n",
      "max      81.791505    157.387474   179.165483   144.472533  \n",
      "\n",
      " - - Room-wise analysis - - \n",
      "                            avg_corner_diff  avg_deviation\n",
      "name                                                      \n",
      "#229 - Dining Room                      0.0      55.151498\n",
      "#229 - Entry                            0.0       0.720861\n",
      "10 Exam                                 0.0       0.656427\n",
      "113/125 Hallway                         0.0      41.995667\n",
      "1206B                                   0.0       0.461388\n",
      "...                                     ...            ...\n",
      "theater kitchen                         0.0       7.915218\n",
      "toilet                                  0.0       2.127981\n",
      "upper loft. 2                           0.0      22.786870\n",
      "upper middle back bedroom.              0.0      36.777484\n",
      "vanity area                             0.0       0.500433\n",
      "\n",
      "[588 rows x 2 columns]\n",
      "\n"
     ]
    }
   ],
   "source": [
    "from app_class import Analysis\n",
    "\n",
    "json_url = \"https://ai-process-sandy.s3.eu-west-1.amazonaws.com/purge/deviation.json\"\n",
    "drawer = Analysis(json_url)\n",
    "plot_paths = drawer.analyze_and_draw()"
   ]
  },
  {
   "cell_type": "code",
   "execution_count": null,
   "metadata": {},
   "outputs": [],
   "source": [
    "from IPython.display import Image, display\n",
    "for plot_path in plot_paths:\n",
    "    display(Image(filename=plot_path))"
   ]
  }
 ],
 "metadata": {
  "kernelspec": {
   "display_name": "venv",
   "language": "python",
   "name": "python3"
  },
  "language_info": {
   "codemirror_mode": {
    "name": "ipython",
    "version": 3
   },
   "file_extension": ".py",
   "mimetype": "text/x-python",
   "name": "python",
   "nbconvert_exporter": "python",
   "pygments_lexer": "ipython3",
   "version": "3.11.3"
  },
  "orig_nbformat": 4
 },
 "nbformat": 4,
 "nbformat_minor": 2
}
